{
 "cells": [
  {
   "cell_type": "code",
   "execution_count": 1,
   "id": "5159bcc4-1dca-4120-96e3-ee5930566620",
   "metadata": {},
   "outputs": [],
   "source": [
    "#Q1 = what happens when an expection is not handled? explain with an example."
   ]
  },
  {
   "cell_type": "code",
   "execution_count": 42,
   "id": "35fe440b-5c03-43bf-9552-6c7f6642dc7e",
   "metadata": {},
   "outputs": [
    {
     "data": {
      "text/plain": [
       "'ans = An exception is an error that occurs during the execution of a program that disrupts the normal flow of the program. Python has many built-in exceptions that can be raised for various reasons, such as dividing by zero, accessing an invalid index, importing a missing module, etc. Exceptions can also be user-defined by creating a custom class that inherits from the Exception base class.\\nA syntax error is an error that occurs when the interpreter encounters invalid syntax in the code, such as a missing colon, an unbalanced parenthesis, a misspelled keyword, etc. Syntax errors prevent the program from running at all and are detected before the execution starts'"
      ]
     },
     "execution_count": 42,
     "metadata": {},
     "output_type": "execute_result"
    }
   ],
   "source": [
    "'''ans = An exception is an error that occurs during the execution of a program that disrupts the normal flow of the program. Python has many built-in exceptions that can be raised for various reasons, such as dividing by zero, accessing an invalid index, importing a missing module, etc. Exceptions can also be user-defined by creating a custom class that inherits from the Exception base class.\n",
    "A syntax error is an error that occurs when the interpreter encounters invalid syntax in the code, such as a missing colon, an unbalanced parenthesis, a misspelled keyword, etc. Syntax errors prevent the program from running at all and are detected before the execution starts'''"
   ]
  },
  {
   "cell_type": "code",
   "execution_count": 43,
   "id": "ef351a36-0617-4e5c-b600-13120f8da23d",
   "metadata": {},
   "outputs": [],
   "source": [
    "#Q2 = Which Python statements are used to catch and handle exception? explain with an example.\n"
   ]
  },
  {
   "cell_type": "code",
   "execution_count": 44,
   "id": "2e967122-0622-4c6c-897a-e5cb9ae1fa80",
   "metadata": {},
   "outputs": [
    {
     "ename": "ZeroDivisionError",
     "evalue": "division by zero",
     "output_type": "error",
     "traceback": [
      "\u001b[0;31m---------------------------------------------------------------------------\u001b[0m",
      "\u001b[0;31mZeroDivisionError\u001b[0m                         Traceback (most recent call last)",
      "Cell \u001b[0;32mIn[44], line 3\u001b[0m\n\u001b[1;32m      1\u001b[0m num \u001b[38;5;241m=\u001b[39m \u001b[38;5;241m10\u001b[39m\n\u001b[1;32m      2\u001b[0m den \u001b[38;5;241m=\u001b[39m \u001b[38;5;241m0\u001b[39m\n\u001b[0;32m----> 3\u001b[0m result \u001b[38;5;241m=\u001b[39m \u001b[43mnum\u001b[49m\u001b[43m \u001b[49m\u001b[38;5;241;43m/\u001b[39;49m\u001b[43m \u001b[49m\u001b[43mden\u001b[49m\n\u001b[1;32m      5\u001b[0m \u001b[38;5;28mprint\u001b[39m(result)\n",
      "\u001b[0;31mZeroDivisionError\u001b[0m: division by zero"
     ]
    }
   ],
   "source": [
    "num = 10\n",
    "den = 0\n",
    "result = num / den\n",
    "\n",
    "print(result)"
   ]
  },
  {
   "cell_type": "code",
   "execution_count": null,
   "id": "dbb36ef3-0545-41d4-8650-a9a0928b7a10",
   "metadata": {},
   "outputs": [],
   "source": []
  },
  {
   "cell_type": "code",
   "execution_count": 45,
   "id": "b83c9187-8211-477d-be68-bfaa2bcd9f4e",
   "metadata": {},
   "outputs": [],
   "source": [
    "#Q3 = Which Python statements are used to catch and handle exception? explain with an example.\n"
   ]
  },
  {
   "cell_type": "code",
   "execution_count": 47,
   "id": "79c1d7d1-ff03-42df-9484-f32f57867ae3",
   "metadata": {},
   "outputs": [
    {
     "name": "stdin",
     "output_type": "stream",
     "text": [
      "Enter a number:  5\n"
     ]
    },
    {
     "name": "stdout",
     "output_type": "stream",
     "text": [
      "The square of 5 is 25\n",
      "Thank you for using our program\n"
     ]
    }
   ],
   "source": [
    "try:\n",
    "  num = int(input(\"Enter a number: \"))\n",
    "  print(\"The square of\", num, \"is\", num**2)\n",
    "except ValueError:\n",
    "  print(\"Invalid input\")\n",
    "finally:\n",
    "  print(\"Thank you for using our program\")\n"
   ]
  },
  {
   "cell_type": "code",
   "execution_count": null,
   "id": "370edf3c-dc4c-4e4c-9721-d6f13bd00ac6",
   "metadata": {},
   "outputs": [],
   "source": []
  },
  {
   "cell_type": "code",
   "execution_count": 48,
   "id": "e26ed6b3-2d02-4ef8-8431-106468318290",
   "metadata": {},
   "outputs": [],
   "source": [
    "#Q4 = explain with an exaple:\n",
    "\n",
    "#a.try and else\n",
    "#b.finally\n",
    "#c.raise"
   ]
  },
  {
   "cell_type": "code",
   "execution_count": null,
   "id": "02eb1d22-4e2f-4ed3-8a6b-56ab3c2804cd",
   "metadata": {},
   "outputs": [],
   "source": [
    "try:\n",
    "  num = int(input(\"Enter a number: \"))\n",
    "except ValueError:\n",
    "  print(\"Invalid input\")\n",
    "else:\n",
    "  print(\"The square of\", num, \"is\", num**2)\n",
    "finally:\n",
    "  print(\"Thank you for using our program\")\n"
   ]
  },
  {
   "cell_type": "code",
   "execution_count": 28,
   "id": "67c1c0e1-c709-4e79-917e-97011d75e04b",
   "metadata": {},
   "outputs": [
    {
     "name": "stdout",
     "output_type": "stream",
     "text": [
      "File not found\n"
     ]
    },
    {
     "ename": "NameError",
     "evalue": "name 'f' is not defined",
     "output_type": "error",
     "traceback": [
      "\u001b[0;31m---------------------------------------------------------------------------\u001b[0m",
      "\u001b[0;31mNameError\u001b[0m                                 Traceback (most recent call last)",
      "Cell \u001b[0;32mIn[28], line 9\u001b[0m\n\u001b[1;32m      7\u001b[0m   \u001b[38;5;28mprint\u001b[39m(data)\n\u001b[1;32m      8\u001b[0m \u001b[38;5;28;01mfinally\u001b[39;00m:\n\u001b[0;32m----> 9\u001b[0m   \u001b[43mf\u001b[49m\u001b[38;5;241m.\u001b[39mclose()\n",
      "\u001b[0;31mNameError\u001b[0m: name 'f' is not defined"
     ]
    }
   ],
   "source": [
    "try:\n",
    "  f = open(\"myfile.txt\", \"r\")\n",
    "  data = f.read()\n",
    "except FileNotFoundError:\n",
    "  print(\"File not found\")\n",
    "else:\n",
    "  print(data)\n",
    "finally:\n",
    "  f.close()\n"
   ]
  },
  {
   "cell_type": "code",
   "execution_count": 29,
   "id": "e71a525b-ac4b-4c8c-8e00-e222dcb35744",
   "metadata": {},
   "outputs": [
    {
     "name": "stdout",
     "output_type": "stream",
     "text": [
      "Age must be at least 18\n"
     ]
    }
   ],
   "source": [
    "def check_age(age):\n",
    "  if age < 18:\n",
    "    raise ValueError(\"Age must be at least 18\")\n",
    "  else:\n",
    "    print(\"You are eligible to vote\")\n",
    "\n",
    "try:\n",
    "  check_age(15)\n",
    "except ValueError as e:\n",
    "  print(e)\n"
   ]
  },
  {
   "cell_type": "code",
   "execution_count": 17,
   "id": "a2b23a80-557f-4789-8251-e9a8d5be4bfb",
   "metadata": {},
   "outputs": [],
   "source": [
    "#Q5 = what are custom expection in python? why do need costom exceptions> explain with an example."
   ]
  },
  {
   "cell_type": "code",
   "execution_count": 12,
   "id": "4c8c8cd5-17e3-4b7e-bc0a-fa465b273476",
   "metadata": {},
   "outputs": [
    {
     "name": "stdout",
     "output_type": "stream",
     "text": [
      "3.0\n",
      "Negative numbers are not allowed: -4\n"
     ]
    }
   ],
   "source": [
    "class NegativeNumberError(Exception):\n",
    "  def __init__(self, value):\n",
    "    self.value = value\n",
    "\n",
    "  def __str__(self):\n",
    "    return \"Negative numbers are not allowed: \" + repr(self.value)\n",
    "\n",
    "def square_root(num):\n",
    "  if num < 0:\n",
    "    raise NegativeNumberError(num)\n",
    "  else:\n",
    "    return num**0.5\n",
    "\n",
    "try:\n",
    "  print(square_root(9))\n",
    "  print(square_root(-4))\n",
    "except NegativeNumberError as e:\n",
    "  print(e)\n"
   ]
  },
  {
   "cell_type": "code",
   "execution_count": 7,
   "id": "f623e8a0-a821-4e87-8b02-4f6a82a495d8",
   "metadata": {},
   "outputs": [],
   "source": [
    "#Q6 = create a custom exception class. Use this class to handle an expection."
   ]
  },
  {
   "cell_type": "code",
   "execution_count": 11,
   "id": "a30c9311-7aa2-40d1-b3f8-aefdb22ae046",
   "metadata": {},
   "outputs": [
    {
     "name": "stdout",
     "output_type": "stream",
     "text": [
      "You have bought 3 apple(s)\n",
      "Sorry, orange is out of stock\n"
     ]
    }
   ],
   "source": [
    "class OutOfStockError(Exception):\n",
    "  def __init__(self, product):\n",
    "    self.product = product\n",
    "\n",
    "  def __str__(self):\n",
    "    return \"Sorry, \" + self.product + \" is out of stock\"\n",
    "\n",
    "def buy(product, quantity):\n",
    "  stock = {\"apple\": 5, \"banana\": 10, \"orange\": 0}\n",
    "  if product not in stock:\n",
    "    raise OutOfStockError(product)\n",
    "  elif quantity > stock[product]:\n",
    "    raise OutOfStockError(product)\n",
    "  else:\n",
    "    print(\"You have bought\", quantity, product + \"(s)\")\n",
    "\n",
    "try:\n",
    "  buy(\"apple\", 3)\n",
    "  buy(\"orange\", 1)\n",
    "except OutOfStockError as e:\n",
    "  print(e)\n"
   ]
  },
  {
   "cell_type": "code",
   "execution_count": null,
   "id": "784336a8-e343-478c-a7e8-6a964429a48b",
   "metadata": {},
   "outputs": [],
   "source": []
  }
 ],
 "metadata": {
  "kernelspec": {
   "display_name": "Python 3 (ipykernel)",
   "language": "python",
   "name": "python3"
  },
  "language_info": {
   "codemirror_mode": {
    "name": "ipython",
    "version": 3
   },
   "file_extension": ".py",
   "mimetype": "text/x-python",
   "name": "python",
   "nbconvert_exporter": "python",
   "pygments_lexer": "ipython3",
   "version": "3.10.8"
  }
 },
 "nbformat": 4,
 "nbformat_minor": 5
}
